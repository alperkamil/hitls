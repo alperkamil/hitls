{
 "cells": [
  {
   "cell_type": "markdown",
   "metadata": {},
   "source": [
    "# Feature Extraction from Aerial Images (Didn't Work!)\n",
    "In this repository, we extract features from a set of satellite images using the pre-trained models in [ssai-cnn](https://github.com/mitmul/ssai-cnn/wiki/Pre-trained-models) repository.\n",
    "We here use two models **MnihCNN_cis** and **MnihCNN_multi**, which are implementations of the methods in [Volodymyr Mnih's PhD thesis](https://www.cs.toronto.edu/~vmnih/docs/Mnih_Volodymyr_PhD_Thesis.pdf).\n",
    "\n",
    "The code below depends on the libraries below:\n",
    "\n",
    "- Python 3.5 (anaconda with python 3.5.1 is recommended)\n",
    "  - Chainer 1.5.0.2\n",
    "  - Cython 0.23.4\n",
    "  - NumPy 1.10.1\n",
    "  - tqdm\n",
    "- OpenCV 3.0.0"
   ]
  },
  {
   "cell_type": "markdown",
   "metadata": {},
   "source": [
    "### Load the model"
   ]
  },
  {
   "cell_type": "code",
   "execution_count": null,
   "metadata": {},
   "outputs": [],
   "source": [
    "import chainer\n",
    "from mnih_models import MnihCNN_multi\n",
    "from config import MODEL_PATH\n",
    "\n",
    "model = MnihCNN_multi()\n",
    "chainer.serializers.load_hdf5(MODEL_PATH,model)\n",
    "model.train = False"
   ]
  },
  {
   "cell_type": "markdown",
   "metadata": {},
   "source": [
    "### Extract the features"
   ]
  },
  {
   "cell_type": "code",
   "execution_count": 2,
   "metadata": {},
   "outputs": [],
   "source": [
    "import glob\n",
    "from scipy import misc\n",
    "import cv2 as cv\n",
    "from chainer import Variable\n",
    "import numpy as np\n",
    "import predict\n",
    "import os\n",
    "from chainer import cuda\n",
    "from config import IMG_PATH\n",
    "args = predict.get_args()\n",
    "\n",
    "\n",
    "image_paths = glob.glob(IMG_PATH+'*.jpg')[:1]\n",
    "preds = []\n",
    "for i,path in enumerate(image_paths):\n",
    "    if not (i+1)%1000:\n",
    "        print(i+1,'/',len(image_paths))\n",
    "        \n",
    "    img = cv.resize(cv.imread(path),(args.sat_size,args.sat_size))\n",
    "    x=model(np.array([img.transpose((2, 0, 1))],dtype=np.float32),None,last_layer=True)\n",
    "    # OR\n",
    "#   x=get_predict(args,img,model)\n",
    "    preds.append(x.data.flatten())"
   ]
  },
  {
   "cell_type": "markdown",
   "metadata": {},
   "source": [
    "### Save the features"
   ]
  },
  {
   "cell_type": "code",
   "execution_count": 6,
   "metadata": {},
   "outputs": [],
   "source": [
    "import os\n",
    "import pickle\n",
    "img_idx = {os.path.basename(path):i for i,path in enumerate(image_paths)}\n",
    "\n",
    "with open('features.pkl','bw') as f:\n",
    "    pickle.dump({\n",
    "       'img_idx' : img_idx,\n",
    "        'preds'  : preds\n",
    "    },f)"
   ]
  }
 ],
 "metadata": {
  "kernelspec": {
   "display_name": "Python 3",
   "language": "python",
   "name": "python3"
  },
  "language_info": {
   "codemirror_mode": {
    "name": "ipython",
    "version": 3
   },
   "file_extension": ".py",
   "mimetype": "text/x-python",
   "name": "python",
   "nbconvert_exporter": "python",
   "pygments_lexer": "ipython3",
   "version": "3.5.5"
  }
 },
 "nbformat": 4,
 "nbformat_minor": 2
}
