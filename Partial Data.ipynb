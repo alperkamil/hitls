{
 "cells": [
  {
   "cell_type": "markdown",
   "metadata": {},
   "source": [
    "# Training Using Partial Data\n",
    "In this notebook, we train multiple ML models to capture human capabilities for checking if an image contains another image or not."
   ]
  },
  {
   "cell_type": "code",
   "execution_count": 61,
   "metadata": {},
   "outputs": [
    {
     "name": "stdout",
     "output_type": "stream",
     "text": [
      "Number of training samples: 1200\n",
      "\n",
      "Distribution of 0s and 1s :\n",
      "0\t 0.18833333333333335\n",
      "1\t 0.8116666666666666\n"
     ]
    }
   ],
   "source": [
    "import csv\n",
    "import numpy as np\n",
    "\n",
    "V = 'A'\n",
    "c=0\n",
    "if V == 'A':\n",
    "    from config import TRAIN_PATH as TRAIN_PATH\n",
    "    from config import TEST_PATH as TEST_PATH\n",
    "    b,s,t = 9,10,61\n",
    "elif V == 'B':\n",
    "    from config import TRAINB_PATH as TRAIN_PATH\n",
    "    from config import TESTB_PATH as TEST_PATH\n",
    "    b,s,t = 62,10,61\n",
    "elif V == 'C':\n",
    "    from config import TRAINC_PATH as TRAIN_PATH\n",
    "    from config import TESTC_PATH as TEST_PATH\n",
    "    b,s,t = 62,10,61\n",
    "\n",
    "def load_from_csv(path,ss=None):\n",
    "    y = []\n",
    "    X = []\n",
    "    with open(path,'r') as f:\n",
    "        reader = csv.reader(f)\n",
    "        next(reader, None)\n",
    "        for row in reader:\n",
    "            if not ss or row[c] in ss:\n",
    "                y.append(int(row[b]))\n",
    "                X.append([int(e) for e in row[s:t]])\n",
    "            \n",
    "    y = np.array(y)\n",
    "    X = np.array(X)\n",
    "    \n",
    "    return X,y\n",
    "\n",
    "X_train, y_train = load_from_csv(TRAIN_PATH)\n",
    "X_test, y_test = load_from_csv(TEST_PATH)\n",
    "\n",
    "print('Number of training samples:',X_train.shape[0])\n",
    "print()\n",
    "\n",
    "print('Distribution of 0s and 1s :')\n",
    "print('0\\t',1-np.sum(y_train)/y_train.shape[0])\n",
    "print('1\\t',np.sum(y_train)/y_train.shape[0])"
   ]
  },
  {
   "cell_type": "code",
   "execution_count": 52,
   "metadata": {},
   "outputs": [
    {
     "name": "stdout",
     "output_type": "stream",
     "text": [
      "('6', '15', '10', '7', '8', '16', '14', '18', '19', '11', '17', '9', '12', '5', '13') {'C': 100000, 'gamma': 1e-05, 'kernel': 'rbf'} 0.5351864740542237\n"
     ]
    }
   ],
   "source": [
    "import itertools \n",
    "import warnings\n",
    "from sklearn.naive_bayes import BernoulliNB\n",
    "from sklearn.svm import SVC\n",
    "from sklearn.model_selection import GridSearchCV\n",
    "warnings.filterwarnings(\"ignore\")\n",
    "\n",
    "def get_grid_search_and_test(estimator, tuned_parameters):\n",
    "    clf = GridSearchCV(estimator, tuned_parameters, cv=2, scoring='f1_macro', n_jobs=-1)\n",
    "    clf.fit(X_train, y_train)\n",
    "    return clf.best_params_,clf.best_score_, clf\n",
    "\n",
    "m = 0\n",
    "best = None\n",
    "ss = None\n",
    "for ss in itertools.combinations(['6', '15', '10', '7', '8', '16', '14', '18', '19', '11', '17', '9', '12', '5', '13'], 15):\n",
    "    \n",
    "    X_train, y_train = load_from_csv(TRAIN_PATH,ss)\n",
    "    X_test, y_test = load_from_csv(TEST_PATH,ss)\n",
    "    \n",
    "    tuned_parameters = [{'kernel': ['rbf'], 'gamma': [1e-2, 1e-3, 1e-4, 1e-5],\n",
    "                         'C': [1, 10, 100, 1000, 10000, 100000]}]\n",
    "    best_params_, best_score_, _ = get_grid_search_and_test(SVC(), tuned_parameters)\n",
    "    if best_score_ > m:\n",
    "        best = best_params_\n",
    "        m = best_score_\n",
    "        S = ss\n",
    "        print(S,best,m)\n",
    "\n",
    "# ('6',) {'C': 10, 'gamma': 0.01, 'kernel': 'rbf'} 0.7948920682730924\n",
    "# ('6', '14') {'C': 10, 'gamma': 0.01, 'kernel': 'rbf'} 0.754342372307163\n",
    "# ('6', '8', '9') {'C': 100, 'gamma': 0.01, 'kernel': 'rbf'} 0.7195983809645624\n",
    "# ('6', '7', '8', '18', '13') {'C': 10000, 'gamma': 0.0001, 'kernel': 'rbf'} 0.7340249526919209\n",
    "# ('6', '7', '16', '18', '9', '13') {'C': 1000, 'gamma': 0.001, 'kernel': 'rbf'} 0.7242330516672763\n",
    "# ...\n",
    "# ('6', '10', '7', '8', '16', '14', '18', '19', '11', '9', '5', '13') {'C': 10000, 'gamma': 0.01, 'kernel': 'rbf'} 0.6162186928522616\n",
    "# ('6', '15', '7', '8', '16', '14', '18', '19', '11', '9', '12', '5', '13') {'C': 10000, 'gamma': 0.001, 'kernel': 'rbf'} 0.595706144770231\n",
    "# ('6', '15', '10', '7', '8', '16', '14', '18', '11', '17', '9', '12', '5', '13') {'C': 100, 'gamma': 0.01, 'kernel': 'rbf'} 0.5632029486721866\n",
    "# ('6', '15', '10', '7', '8', '16', '14', '18', '19', '11', '17', '9', '12', '5', '13') {'C': 100, 'gamma': 0.01, 'kernel': 'rbf'} 0.5453543241430406\n",
    "\n",
    "# C\n",
    "# ('6',) {'C': 10, 'gamma': 0.01, 'kernel': 'rbf'} 0.7469252008032128\n",
    "# ('6', '18') {'C': 10, 'gamma': 0.01, 'kernel': 'rbf'} 0.7161815324478511\n",
    "# ('6', '7', '18') {'C': 100, 'gamma': 0.001, 'kernel': 'rbf'} 0.6941929077261103\n",
    "# ('6', '7', '18', '5') {'C': 10, 'gamma': 0.01, 'kernel': 'rbf'} 0.689273324764061\n",
    "# ('6', '15', '7', '14', '18') {'C': 1000, 'gamma': 0.0001, 'kernel': 'rbf'} 0.6641720616786991\n",
    "# ...\n",
    "# ('6', '15', '10', '7', '8', '14', '18', '11', '17', '9', '12', '5', '13') {'C': 10000, 'gamma': 0.001, 'kernel': 'rbf'} 0.5723381412289125\n",
    "# ('6', '15', '10', '7', '8', '16', '14', '18', '19', '11', '9', '12', '5', '13') {'C': 100000, 'gamma': 1e-05, 'kernel': 'rbf'} 0.5536459834253613\n",
    "# ('6', '15', '10', '7', '8', '16', '14', '18', '19', '11', '17', '9', '12', '5', '13') {'C': 100000, 'gamma': 1e-05, 'kernel': 'rbf'} 0.5351864740542237\n",
    "\n",
    "# B\n",
    "# ('19',) {'C': 1000, 'gamma': 0.0001, 'kernel': 'rbf'} 0.6905141155141155\n",
    "# ('6', '9') {'C': 100, 'gamma': 0.001, 'kernel': 'rbf'} 0.6638738915232688\n",
    "# ('6', '7', '9') {'C': 10, 'gamma': 0.01, 'kernel': 'rbf'} 0.6434793177194023\n",
    "# ('8', '18', '11', '9') {'C': 100000, 'gamma': 0.0001, 'kernel': 'rbf'} 0.6473962219978637\n",
    "# ...\n",
    "# ('6', '15', '10', '7', '8', '16', '14', '18', '19', '11', '9', '12', '5', '13') {'C': 100, 'gamma': 0.01, 'kernel': 'rbf'} 0.5528425949065511\n",
    "# ('6', '15', '10', '7', '8', '16', '14', '18', '19', '11', '17', '9', '12', '5', '13') {'C': 10000, 'gamma': 0.001, 'kernel': 'rbf'} 0.534807890196353"
   ]
  },
  {
   "cell_type": "code",
   "execution_count": 62,
   "metadata": {},
   "outputs": [
    {
     "name": "stdout",
     "output_type": "stream",
     "text": [
      "              precision    recall  f1-score   support\n",
      "\n",
      "           0       0.27      0.05      0.09        56\n",
      "           1       0.82      0.97      0.89       244\n",
      "\n",
      "   micro avg       0.80      0.80      0.80       300\n",
      "   macro avg       0.54      0.51      0.49       300\n",
      "weighted avg       0.72      0.80      0.74       300\n",
      "\n"
     ]
    }
   ],
   "source": [
    "from sklearn.metrics import classification_report\n",
    "ss = ['6', '15', '10', '7', '8', '16', '14', '18', '19', '11', '17', '9', '12', '5', '13']\n",
    "tuned_parameters = [{'kernel': ['rbf'], 'gamma': [1e-2, 1e-3, 1e-4, 1e-5],\n",
    "                     'C': [1, 10, 100, 1000, 10000, 100000]}]\n",
    "_, _, clf = get_grid_search_and_test(SVC(), tuned_parameters)\n",
    "y_true, y_pred = y_test, clf.predict(X_test)\n",
    "print(classification_report(y_true, y_pred))"
   ]
  }
 ],
 "metadata": {
  "kernelspec": {
   "display_name": "Python 3",
   "language": "python",
   "name": "python3"
  },
  "language_info": {
   "codemirror_mode": {
    "name": "ipython",
    "version": 3
   },
   "file_extension": ".py",
   "mimetype": "text/x-python",
   "name": "python",
   "nbconvert_exporter": "python",
   "pygments_lexer": "ipython3",
   "version": "3.6.5"
  }
 },
 "nbformat": 4,
 "nbformat_minor": 2
}
