{
 "cells": [
  {
   "cell_type": "markdown",
   "metadata": {},
   "source": [
    "# Feature Extraction from Satellite Images using Keras Pre-trained models\n",
    "\n",
    "In this notebook, we extract features from a set of satellite images using pre-trained models in [Keras](https://keras.io/applications/#mobilenet) library."
   ]
  },
  {
   "cell_type": "code",
   "execution_count": 1,
   "metadata": {},
   "outputs": [
    {
     "name": "stderr",
     "output_type": "stream",
     "text": [
      "Using TensorFlow backend.\n"
     ]
    },
    {
     "name": "stdout",
     "output_type": "stream",
     "text": [
      "1000 / 6000\n",
      "2000 / 6000\n",
      "3000 / 6000\n",
      "4000 / 6000\n",
      "5000 / 6000\n",
      "6000 / 6000\n"
     ]
    }
   ],
   "source": [
    "from keras.applications.mobilenet import MobileNet\n",
    "from keras.preprocessing import image\n",
    "from keras.applications.mobilenet import preprocess_input\n",
    "from keras.models import Model\n",
    "import numpy as np\n",
    "from config import IMG_PATH\n",
    "import glob\n",
    "\n",
    "base_model = MobileNet(weights='imagenet')\n",
    "model = Model(inputs=base_model.input, outputs=base_model.get_layer('global_average_pooling2d_1').output)\n",
    "\n",
    "preds = []\n",
    "image_paths = glob.glob(IMG_PATH+'*.jpg')\n",
    "    \n",
    "for i,path in enumerate(image_paths):\n",
    "    if not (i+1)%1000:\n",
    "        print(i+1,'/',len(image_paths))\n",
    "        \n",
    "    img = image.load_img(path, target_size=(224, 224))\n",
    "    x = image.img_to_array(img)\n",
    "    x = np.expand_dims(x, axis=0)\n",
    "    x = preprocess_input(x)\n",
    "\n",
    "    pred = model.predict(x)\n",
    "    preds.append(pred.flatten())"
   ]
  },
  {
   "cell_type": "code",
   "execution_count": 2,
   "metadata": {},
   "outputs": [],
   "source": [
    "import os\n",
    "import pickle\n",
    "img_idx = {os.path.basename(path):i for i,path in enumerate(image_paths)}\n",
    "\n",
    "with open('features.pkl','bw') as f:\n",
    "    pickle.dump({\n",
    "       'img_idx' : img_idx,\n",
    "        'preds'  : preds\n",
    "    },f)"
   ]
  },
  {
   "cell_type": "code",
   "execution_count": null,
   "metadata": {},
   "outputs": [],
   "source": [
    "for l in base_model.layers:\n",
    "    print(l.output_shape,l.name)"
   ]
  }
 ],
 "metadata": {
  "kernelspec": {
   "display_name": "Python 3",
   "language": "python",
   "name": "python3"
  },
  "language_info": {
   "codemirror_mode": {
    "name": "ipython",
    "version": 3
   },
   "file_extension": ".py",
   "mimetype": "text/x-python",
   "name": "python",
   "nbconvert_exporter": "python",
   "pygments_lexer": "ipython3",
   "version": "3.6.5"
  }
 },
 "nbformat": 4,
 "nbformat_minor": 2
}
